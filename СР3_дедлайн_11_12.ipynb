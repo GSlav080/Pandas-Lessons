{
 "cells": [
  {
   "cell_type": "markdown",
   "metadata": {
    "id": "VcwaxwopyKlA"
   },
   "source": [
    "1. Напишите программу, которая ищет наибольший (не равный 1) общий делитель двух чисел, введённых пользователем (num_1, num_2), и выводит его на экран. Если общих делителей нет, выводит на экран \"Общих делителей не найдено\"."
   ]
  },
  {
   "cell_type": "code",
   "execution_count": 1,
   "metadata": {
    "id": "ER28uMdLVmRe"
   },
   "outputs": [
    {
     "name": "stdout",
     "output_type": "stream",
     "text": [
      "Число 1: 2\n",
      "Число 2: 4\n",
      "2\n"
     ]
    }
   ],
   "source": [
    "num_1 = int(input('Число 1: '))\n",
    "num_2 = int(input('Число 2: '))\n",
    "while(num_2): \n",
    "        num_1, num_2 = num_2, num_1 % num_2 \n",
    "if num_1==1:\n",
    "    print('Общих делителей не найдено')\n",
    "else:\n",
    "    print(num_1)"
   ]
  },
  {
   "cell_type": "markdown",
   "metadata": {
    "id": "6KIoHKZHyqwp"
   },
   "source": [
    "2. Напишите программу, которая будет суммировать все числа, введенные пользователем, игнорируя при этом нечисловой ввод. Выводите на экран текущую сумму чисел после каждого очередного ввода. Ввод пользователем значения, не являющегося числовым, должен приводить к появлению соответствующего предупреждения, после чего пользователю должно быть предложено ввести следующее число. Выход из программы будет осуществляться путем пропуска ввода. Удостоверьтесь, что ваша программа корректно обрабатывает целочисленные значения и числа с плавающей запятой."
   ]
  },
  {
   "cell_type": "code",
   "execution_count": 4,
   "metadata": {
    "id": "63T4Hev8VmrL"
   },
   "outputs": [
    {
     "name": "stdout",
     "output_type": "stream",
     "text": [
      "12\n",
      "Сумма:  12.0\n",
      "-12\n",
      "Сумма:  0.0\n",
      "0.1\n",
      "Сумма:  0.1\n",
      "0.9\n",
      "Сумма:  1.0\n",
      "-1\n",
      "Сумма:  0.0\n",
      "+12\n",
      "Сумма:  12.0\n",
      "4\n",
      "Сумма:  16.0\n",
      "0\n",
      "Сумма:  16.0\n",
      "\n"
     ]
    }
   ],
   "source": [
    "sums = 0\n",
    "while True:\n",
    "    a = input()\n",
    "    if a =='':\n",
    "        break\n",
    "    else:\n",
    "        try:\n",
    "            a = float(a)\n",
    "            sums += a\n",
    "            print('Сумма: ', sums)\n",
    "        except:\n",
    "            print('Введено не число!')\n",
    "    "
   ]
  },
  {
   "cell_type": "markdown",
   "metadata": {
    "id": "pgWu-aUPyt3l"
   },
   "source": [
    "3. В операционных системах на базе Unix обычно присутствует утилита с названием head. Она выводит первые десять строк содержимого файла, имя которого передается в качестве аргумента командной строки. Напишите программу на Python, имитирующую поведение этой утилиты. Если файла, указанного пользователем, не существует, или не задан аргумент командной строки, необходимо вывести соответствующее сообщение об ошибке."
   ]
  },
  {
   "cell_type": "code",
   "execution_count": 32,
   "metadata": {
    "id": "Mu3292dBVnB3"
   },
   "outputs": [
    {
     "name": "stdout",
     "output_type": "stream",
     "text": [
      "Путь: 1.txt\n",
      "[Errno 2] No such file or directory: '1.txt'\n"
     ]
    }
   ],
   "source": [
    "url = input('Путь: ')\n",
    "if len(url) == 0:\n",
    "    print('Путь не указан')\n",
    "else:\n",
    "    try:\n",
    "        f = open(url, 'r', encoding='utf-8')    \n",
    "    except Exception as e:\n",
    "        print('Файл не найден') \n",
    "    try:\n",
    "        for i in range(5):\n",
    "                print(f.readline())\n",
    "    except:\n",
    "        pass"
   ]
  },
  {
   "cell_type": "markdown",
   "metadata": {
    "id": "-FoPEPT0yw7H"
   },
   "source": [
    "4. Напишите программу, которая принимает имя файла и выводит его расширение. Если расширение у файла определить невозможно, выбросите исключение."
   ]
  },
  {
   "cell_type": "code",
   "execution_count": 44,
   "metadata": {
    "id": "WAu7dT1ZVnbF"
   },
   "outputs": [
    {
     "name": "stdout",
     "output_type": "stream",
     "text": [
      "Имя файла123.wder.asd\n",
      "Не удалось определить имя файла\n"
     ]
    }
   ],
   "source": [
    "file_extension = input('Имя файла').split('.')\n",
    "if(len(file_extension) != 2):\n",
    "    print('Не удалось определить имя файла')\n",
    "else:\n",
    "    print('.'+file_extension[1])"
   ]
  }
 ],
 "metadata": {
  "colab": {
   "provenance": []
  },
  "kernelspec": {
   "display_name": "Python 3 (ipykernel)",
   "language": "python",
   "name": "python3"
  },
  "language_info": {
   "codemirror_mode": {
    "name": "ipython",
    "version": 3
   },
   "file_extension": ".py",
   "mimetype": "text/x-python",
   "name": "python",
   "nbconvert_exporter": "python",
   "pygments_lexer": "ipython3",
   "version": "3.9.13"
  }
 },
 "nbformat": 4,
 "nbformat_minor": 1
}
