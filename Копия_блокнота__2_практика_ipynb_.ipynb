{
 "cells": [
  {
   "cell_type": "markdown",
   "metadata": {
    "id": "yCVpAcC5qMMz"
   },
   "source": [
    "**Задача 2.1 Среднее**"
   ]
  },
  {
   "cell_type": "markdown",
   "metadata": {
    "id": "LXEHHMpfqeMD"
   },
   "source": [
    "Задать три действительных положительных числа. Найти среднее арифметическое и среднее геометрическое этих чисел."
   ]
  },
  {
   "cell_type": "code",
   "execution_count": 1,
   "metadata": {
    "id": "icfQXGhIqgbT"
   },
   "outputs": [
    {
     "name": "stdout",
     "output_type": "stream",
     "text": [
      "1\n",
      "2\n",
      "3\n",
      "Среднее арифметическое  2.0\n",
      "Среднее геометрическое  1.8171205928321397\n"
     ]
    }
   ],
   "source": [
    "a = float(input())\n",
    "b = float(input())\n",
    "c = float(input())\n",
    "sr_ar = (a+b+c)/3\n",
    "sr_geo = (a*b*c)**(1/3)\n",
    "print('Среднее арифметическое ', sr_ar)\n",
    "print('Среднее геометрическое ', sr_geo)"
   ]
  },
  {
   "cell_type": "markdown",
   "metadata": {
    "id": "_bMweGSqqWYr"
   },
   "source": [
    "**Задача 2.2 Процент от числа**"
   ]
  },
  {
   "cell_type": "markdown",
   "metadata": {
    "id": "pGePlqeWqh60"
   },
   "source": [
    "Число А составляет 25% от числа В, которое в свою очередь составляет 18% от числа С, а С=369. Найти А и В."
   ]
  },
  {
   "cell_type": "code",
   "execution_count": 2,
   "metadata": {
    "id": "xc4WMuvMqirj"
   },
   "outputs": [
    {
     "name": "stdout",
     "output_type": "stream",
     "text": [
      "A =  16.605\n",
      "B = 66.42\n"
     ]
    }
   ],
   "source": [
    "C = 369\n",
    "B = C / 100 * 18\n",
    "A = B / 100 * 25\n",
    "print('A = ', A)\n",
    "print('B =', B)"
   ]
  },
  {
   "cell_type": "markdown",
   "metadata": {
    "id": "iOZyYooXqXXD"
   },
   "source": [
    "**Задача 2.3 Изготовление ботинок**"
   ]
  },
  {
   "cell_type": "markdown",
   "metadata": {
    "id": "mEhEQ86NqkD7"
   },
   "source": [
    "Для изготовления заготовки ботинок рабочий тратит 2 мин. Сколько заготовок рабочий изготовит за 7 часов?"
   ]
  },
  {
   "cell_type": "code",
   "execution_count": 3,
   "metadata": {
    "id": "SHiCNRiuqkzj"
   },
   "outputs": [
    {
     "name": "stdout",
     "output_type": "stream",
     "text": [
      "210.0\n"
     ]
    }
   ],
   "source": [
    "print(60/2*7)"
   ]
  },
  {
   "cell_type": "markdown",
   "metadata": {
    "id": "1V2sT0H2qYML"
   },
   "source": [
    "**Задача 2.4 Пряжа**"
   ]
  },
  {
   "cell_type": "markdown",
   "metadata": {
    "id": "AOaJVYxCqneD"
   },
   "source": [
    "При производстве пряжи из каждого килограмма сырья получают 0,93 кг пряжи, отходы составляют 0,06 кг, потери – 0,01 кг. Сколько пряжи, отходов и потерь получим из 12 т сырья?"
   ]
  },
  {
   "cell_type": "code",
   "execution_count": 4,
   "metadata": {
    "id": "9TzveJKVrA18"
   },
   "outputs": [
    {
     "name": "stdout",
     "output_type": "stream",
     "text": [
      "1116000 кг\n",
      "72000 кг\n",
      "12000 кг\n"
     ]
    }
   ],
   "source": [
    "A = 12*1000\n",
    "PR = A*93\n",
    "OT = A*6\n",
    "POT = A*1\n",
    "print(PR,'кг')\n",
    "print(OT,'кг')\n",
    "print(POT,'кг')"
   ]
  },
  {
   "cell_type": "markdown",
   "metadata": {
    "id": "oqlaOcAhqZR6"
   },
   "source": [
    "**Задача 2.5 Заготовки**"
   ]
  },
  {
   "cell_type": "markdown",
   "metadata": {
    "id": "ytF7l_Ljqpi6"
   },
   "source": [
    "Сколько заготовок круглой формы можно получить из куска материи длиной 12 и шириной 1,4 м., если радиус заготовки =15 см? Определить площадь отходов. Центры заготовок должны располагаться на одной линии."
   ]
  },
  {
   "cell_type": "code",
   "execution_count": 5,
   "metadata": {
    "id": "9y5HdFjerC8c"
   },
   "outputs": [
    {
     "name": "stdout",
     "output_type": "stream",
     "text": [
      "Заготовок:  160.0\n",
      "Отходы:  54960.0\n"
     ]
    }
   ],
   "source": [
    "A = 12 * 100\n",
    "B = 1.4 * 100\n",
    "R = 15*2\n",
    "pi = 3.14\n",
    "col_vo = B//R*A//R\n",
    "otx = A*B-160*((R/2)**2*pi)\n",
    "print('Заготовок: ', col_vo)\n",
    "print('Отходы: ', otx)"
   ]
  },
  {
   "cell_type": "markdown",
   "metadata": {
    "id": "UWFPVjBvqZWj"
   },
   "source": [
    "**Задача 2.6 Расстоние между точками**"
   ]
  },
  {
   "cell_type": "markdown",
   "metadata": {
    "id": "dyrQCwrtqqgC"
   },
   "source": [
    "Вычислите расстояние между двумя точками с координатами X1, Y1 и X2, Y2."
   ]
  },
  {
   "cell_type": "code",
   "execution_count": 7,
   "metadata": {
    "id": "Wx9GoFy_rHQU"
   },
   "outputs": [
    {
     "name": "stdout",
     "output_type": "stream",
     "text": [
      "A: 1 2\n",
      "B: 3 4\n",
      "4.47213595499958\n"
     ]
    }
   ],
   "source": [
    "A = list(map(int, input('A: ').split(' ')))\n",
    "B = list(map(int, input('B: ').split(' ')))\n",
    "\n",
    "S = ((B[0]**2-A[0]**2)+(B[1]**2-A[1]**2))**0.5\n",
    "print(S)"
   ]
  },
  {
   "cell_type": "markdown",
   "metadata": {
    "id": "IIrEPZP2qcIL"
   },
   "source": [
    "**Задача 2.7 Процент** "
   ]
  },
  {
   "cell_type": "markdown",
   "metadata": {
    "id": "rMMYsHsYqtC6"
   },
   "source": [
    "Сколько процентов от (А + В – С) приходится на А, В и С?"
   ]
  },
  {
   "cell_type": "code",
   "execution_count": 8,
   "metadata": {
    "colab": {
     "base_uri": "https://localhost:8080/"
    },
    "id": "uwdzN_oCrHmc",
    "outputId": "e67418a2-9786-4137-af71-650ec3b1fc2d"
   },
   "outputs": [
    {
     "name": "stdout",
     "output_type": "stream",
     "text": [
      "5\n",
      "38.46153846153846 76.92307692307692 15.384615384615385\n"
     ]
    }
   ],
   "source": [
    "A=int(input(\"\"))\n",
    "V=0\n",
    "B=10\n",
    "C=2\n",
    "V=A+B-C\n",
    "A=A*100/V\n",
    "B=B*100/V\n",
    "C=C*100/V\n",
    "\n",
    "print(A,B,C)"
   ]
  },
  {
   "cell_type": "markdown",
   "metadata": {
    "id": "Ux-SRF6jq3nD"
   },
   "source": [
    "**Задача 2.8 Формовочная машина** "
   ]
  },
  {
   "cell_type": "markdown",
   "metadata": {
    "id": "9Hk30igZqu1l"
   },
   "source": [
    "Производительность формовочной машины – 7 тарелок в 1 мин. Сколько тарелок выпустят три машины за 6 час?"
   ]
  },
  {
   "cell_type": "code",
   "execution_count": 9,
   "metadata": {
    "id": "TiRpK5xZrH_T"
   },
   "outputs": [
    {
     "name": "stdout",
     "output_type": "stream",
     "text": [
      "2520\n"
     ]
    }
   ],
   "source": [
    "print(6*60*7)"
   ]
  },
  {
   "cell_type": "markdown",
   "metadata": {
    "id": "sJryC4DFrrL8"
   },
   "source": [
    "**Задание 2.9**"
   ]
  },
  {
   "cell_type": "markdown",
   "metadata": {
    "id": "9gszz77urtzc"
   },
   "source": [
    "Составить программу, которая вычисляет сумму квадратов 15 вводимых чисел."
   ]
  },
  {
   "cell_type": "code",
   "execution_count": 12,
   "metadata": {
    "id": "g9EpJF0gr1GE"
   },
   "outputs": [
    {
     "name": "stdout",
     "output_type": "stream",
     "text": [
      "1\n",
      "1\n",
      "1\n",
      "1\n",
      "1\n",
      "1\n",
      "1\n",
      "1\n",
      "1\n",
      "1\n",
      "1\n",
      "1\n",
      "1\n",
      "1\n",
      "1\n",
      "15\n"
     ]
    }
   ],
   "source": [
    "s = 0\n",
    "for i in range(15):\n",
    "    A = int(input())\n",
    "    s += A**2\n",
    "print(s)"
   ]
  },
  {
   "cell_type": "markdown",
   "metadata": {},
   "source": []
  },
  {
   "cell_type": "code",
   "execution_count": null,
   "metadata": {},
   "outputs": [],
   "source": []
  }
 ],
 "metadata": {
  "colab": {
   "provenance": []
  },
  "kernelspec": {
   "display_name": "Python 3 (ipykernel)",
   "language": "python",
   "name": "python3"
  },
  "language_info": {
   "codemirror_mode": {
    "name": "ipython",
    "version": 3
   },
   "file_extension": ".py",
   "mimetype": "text/x-python",
   "name": "python",
   "nbconvert_exporter": "python",
   "pygments_lexer": "ipython3",
   "version": "3.9.12"
  }
 },
 "nbformat": 4,
 "nbformat_minor": 1
}
