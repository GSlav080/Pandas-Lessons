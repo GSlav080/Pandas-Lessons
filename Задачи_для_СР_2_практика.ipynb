{
 "cells": [
  {
   "cell_type": "markdown",
   "metadata": {
    "id": "jzuCY49XVvSq"
   },
   "source": [
    "**Задача 1. СР 2 практика**"
   ]
  },
  {
   "cell_type": "markdown",
   "metadata": {
    "id": "3OIVpAfpVzNE"
   },
   "source": [
    "1.\tИндекс массы тела (ИМТ) является простым и одновременно важным индикатором состояния здоровья человека. Он рассчитывается как отношение веса человека (в килограммах) к квадрату его роста (в метрах). Если ИМТ находится в пределах от 18,5 до 24,99 включительно, соответствие между массой тела и ростом человека считают нормальным. Значения ниже этого диапазона сигнализируют о недостаточной массе тела, выше — об избыточной массе тела. Помогите врачам автоматизировать принятие решений на основе ИМТ: напишите программу, в которой человек может указать свой вес (weight) и рост (height), а затем   прочитать заключение:  \"Недостаточная масса тела\", \"Норма\", \"Избыточная масса тела\"."
   ]
  },
  {
   "cell_type": "code",
   "execution_count": 5,
   "metadata": {
    "id": "l2q5Q9ohV0Sb"
   },
   "outputs": [
    {
     "name": "stdout",
     "output_type": "stream",
     "text": [
      "weight: 70\n",
      "height: 1.8\n",
      "21.604938271604937\n",
      "НОРМА\n"
     ]
    }
   ],
   "source": [
    "weight = float(input('weight: '))\n",
    "height = float(input('height: '))\n",
    "IMT = weight/height**2\n",
    "print(IMT)\n",
    "if(18.5<= IMT <= 24.99):\n",
    "    print('НОРМА')\n",
    "elif(IMT<18.5):\n",
    "    print('Недостаточная масса тела')\n",
    "else:\n",
    "    print('Избыточная масса тела')"
   ]
  },
  {
   "cell_type": "markdown",
   "metadata": {
    "id": "rE66rJFBV0li"
   },
   "source": [
    "**Задача 2. СР 2 практика**"
   ]
  },
  {
   "cell_type": "markdown",
   "metadata": {
    "id": "gX13mQ5gV73w"
   },
   "source": [
    "2.\tПреподаватель ведёт занятия с 10:30 до 12:00, с 13:40 до 15:00, с 18:00 до 19:30. В университет он приходит в 10 утра, а уходит в 20 часов. Время в университете, свободное от пар, он посвящает консультациям студентов. Напишите программу, которая помогла бы студентам подстроиться под свободное время преподавателя: пусть они вводят желаемое время (сначала одно число - часы (hour), затем второе - минуты (minute)), а программа показывает, свободен преподаватель в это время или нет (выводит на экран \"Преподаватель свободен.\" или \"Преподаватель занят.\" соответственно). "
   ]
  },
  {
   "cell_type": "code",
   "execution_count": null,
   "metadata": {
    "id": "Bc9l7jyiV89q"
   },
   "outputs": [],
   "source": [
    "hour = int(input())\n",
    "minute = int(input())\n",
    "if(10<=hour<20):\n",
    "    if(10<=hour<12 and minute==30):\n",
    "        print('Преподавтель занят')\n",
    "    elif(13<=hour<15 and minute==30):\n",
    "        print('Преподавтель занят')\n",
    "    elif(18<=hour<19):\n",
    "        if(hour!=19 and minute == 30):\n",
    "            print('Преподавтель занят')\n",
    "        else:\n",
    "            print('Преподавтель свободен')\n",
    "    else:\n",
    "    \n",
    "        print('Преподавтель свободен')\n",
    "else:\n",
    "    print('Преподавтель занят')"
   ]
  },
  {
   "cell_type": "markdown",
   "metadata": {
    "id": "QebjFEFOV3ss"
   },
   "source": [
    "**Задача 3. СР 2 практика**"
   ]
  },
  {
   "cell_type": "markdown",
   "metadata": {
    "id": "veUS0M7vV9-i"
   },
   "source": [
    "3.\tНаписать программу, с помощью которой для ряда целых чисел от 18 до 36 нужно вычислить сумму квадратов чисел, делящихся на 2, и кубов чисел, делящихся на 3, после чего вывести эти суммы на экран."
   ]
  },
  {
   "cell_type": "code",
   "execution_count": 6,
   "metadata": {
    "id": "1_Av6hCSWAF2"
   },
   "outputs": [
    {
     "name": "stdout",
     "output_type": "stream",
     "text": [
      "7620 158193\n"
     ]
    }
   ],
   "source": [
    "s1 = 0\n",
    "s2 = 0\n",
    "for i in range(18, 37):\n",
    "    if(i**2%2==0):\n",
    "        s1 = s1+ i**2\n",
    "    if(i**3%3==0):\n",
    "        s2 = s2 + i**3\n",
    "print(s1, s2)"
   ]
  },
  {
   "cell_type": "markdown",
   "metadata": {
    "id": "9bu4sBWnV4ud"
   },
   "source": [
    "**Задача 4. СР 2 практика**"
   ]
  },
  {
   "cell_type": "markdown",
   "metadata": {
    "id": "zLU2BLHYWBAF"
   },
   "source": [
    "4.\tКлиент банка открыл вклад под 10% годовых и положил на этот счёт Y рублей. Напишите программу, позволяющую определить, через сколько лет клиент будет иметь на счету сумму не менее Z рублей. Ответ должен быть выведен на экран в виде целого числа без какого-либо дополнительного поясняющего текста. "
   ]
  },
  {
   "cell_type": "code",
   "execution_count": 9,
   "metadata": {
    "id": "RUe_VtWVWEmU"
   },
   "outputs": [
    {
     "name": "stdout",
     "output_type": "stream",
     "text": [
      "10\n",
      "1\n",
      "Она уже имеет 1 рублей\n"
     ]
    }
   ],
   "source": [
    "Y = int(input())\n",
    "Z = int(input())\n",
    "if (Y<Z):\n",
    "    year = 0\n",
    "    while(Y<Z):\n",
    "        year += 1\n",
    "        Y = Y/100*10+Y\n",
    "    print(year)\n",
    "else:\n",
    "    print(\"Она уже имеет {} рублей\".format(Z))"
   ]
  },
  {
   "cell_type": "markdown",
   "metadata": {
    "id": "CpthyfJBWExF"
   },
   "source": [
    "**Задача 5. СР 2 практика**"
   ]
  },
  {
   "cell_type": "markdown",
   "metadata": {
    "id": "3XV_l7yYWH-T"
   },
   "source": [
    "5.\tПредставьте, что перед вами большая цистерна объёмом 1000 литров, которую необходимо заполнить водой. У вас есть робот, который доставляет в цистерну сначала 5 литров, а затем каждый раз на 5 литров больше, чем в предыдущий. Изначально в цистерне нет воды. Через сколько заходов робота вода польётся через край? В результате работы программа должна вывести на экран число заходов, необходимых роботу для заполнения цистерны до краёв. Ответ должен быть выведен на экран в виде целого числа без какого-либо дополнительного поясняющего текста. Для проверки используйте переменную volume, равную свободному объёму в цистерне, и меняйте её по ходу цикла (на последнем шаге она должна быть меньше нуля). "
   ]
  },
  {
   "cell_type": "code",
   "execution_count": 12,
   "metadata": {
    "id": "ELhorWSwWK3i"
   },
   "outputs": [
    {
     "name": "stdout",
     "output_type": "stream",
     "text": [
      "20\n"
     ]
    }
   ],
   "source": [
    "volume = 1000\n",
    "S = 0\n",
    "a = 0\n",
    "zax = 0\n",
    "while(S<1000):\n",
    "    zax += 1\n",
    "    a += 5\n",
    "    S += a\n",
    "    volume -= a\n",
    "print(zax)"
   ]
  },
  {
   "cell_type": "markdown",
   "metadata": {
    "id": "kjglBWtYWLDF"
   },
   "source": [
    "**Задача 6. СР 2 практика**"
   ]
  },
  {
   "cell_type": "markdown",
   "metadata": {
    "id": "nGTiXwagWQCM"
   },
   "source": [
    "6.\tНапишите программу, которая создаёт последовательность чисел, содержащую целые, кратные трём числа в интервале от 1 до 50. Найдите сумму элементов этой последовательности. Результат вычислений сохраните в переменной с именем result. "
   ]
  },
  {
   "cell_type": "code",
   "execution_count": 14,
   "metadata": {
    "id": "IAYbaFbaWQfL"
   },
   "outputs": [
    {
     "name": "stdout",
     "output_type": "stream",
     "text": [
      "408\n"
     ]
    }
   ],
   "source": [
    "result = 0\n",
    "l = []\n",
    "for i in range(1, 51):\n",
    "    if i % 3 == 0:\n",
    "        l.append(i)\n",
    "result = sum(l)\n",
    "print(result)"
   ]
  },
  {
   "cell_type": "code",
   "execution_count": null,
   "metadata": {},
   "outputs": [],
   "source": []
  }
 ],
 "metadata": {
  "colab": {
   "provenance": [],
   "toc_visible": true
  },
  "kernelspec": {
   "display_name": "Python 3 (ipykernel)",
   "language": "python",
   "name": "python3"
  },
  "language_info": {
   "codemirror_mode": {
    "name": "ipython",
    "version": 3
   },
   "file_extension": ".py",
   "mimetype": "text/x-python",
   "name": "python",
   "nbconvert_exporter": "python",
   "pygments_lexer": "ipython3",
   "version": "3.9.12"
  }
 },
 "nbformat": 4,
 "nbformat_minor": 1
}
