{
 "cells": [
  {
   "cell_type": "markdown",
   "metadata": {
    "id": "FUTkh36uTDBl"
   },
   "source": [
    "**Задача 3.1 На отработку цикла со счетчиком (for i in range())**"
   ]
  },
  {
   "cell_type": "markdown",
   "metadata": {
    "id": "OzVcKSDUTIC3"
   },
   "source": [
    "В классе N школьников. На уроке физкультуры тренер говорит «на первый-второй рассчитайтесь». Выведите, что скажут ученики.\n",
    "\n",
    "**Данные, которые вводят с клавиатуры:** вводится одно целое число — количество человек в классе.\n",
    "\n",
    "Также попробуйте прописать функцию задержки в выполнение программы величиной в 3 секунды. (time.sleep)"
   ]
  },
  {
   "cell_type": "code",
   "execution_count": 1,
   "metadata": {
    "id": "1k3Lr-rvUbD1"
   },
   "outputs": [
    {
     "name": "stdout",
     "output_type": "stream",
     "text": [
      "1\n",
      "1\n"
     ]
    }
   ],
   "source": [
    "import time\n",
    "N = int(input())\n",
    "for i in range(1, N+1):\n",
    "    print(i)\n",
    "    time.sleep(3)"
   ]
  },
  {
   "cell_type": "markdown",
   "metadata": {
    "id": "bByyrnF9TIeU"
   },
   "source": [
    "**Задача 3.2** **На отработку цикла со счетчиком (for i in range())**"
   ]
  },
  {
   "cell_type": "markdown",
   "metadata": {
    "id": "3PQ0c0AhTJ1T"
   },
   "source": [
    "Посчитайте сумму 1+2+3+..+N\n",
    "Выведите искомую сумму.\n",
    "\n",
    "**Данные, которые вводятся с клавиатуры:** вводится одно целое число \n"
   ]
  },
  {
   "cell_type": "code",
   "execution_count": null,
   "metadata": {
    "id": "ZYJlMmtUTKA4"
   },
   "outputs": [],
   "source": [
    "N = int(input())\n",
    "summ = 0\n",
    "for i in range(1, N+1):\n",
    "    summ+= i\n",
    "print(summ)"
   ]
  },
  {
   "cell_type": "markdown",
   "metadata": {
    "id": "8cBkhv8cTKKo"
   },
   "source": [
    "**Задача 3.3 На отработку цикла с предусловием while**"
   ]
  },
  {
   "cell_type": "markdown",
   "metadata": {
    "id": "lJGDtDZATLPL"
   },
   "source": [
    "Найти максимум и минимум из N натуральных двухзначных случайных чисел. Вывести на экран наколенные числа ряда, максимальное и минимальное число. "
   ]
  },
  {
   "cell_type": "code",
   "execution_count": 1,
   "metadata": {
    "id": "KFMXTBagUeAL"
   },
   "outputs": [
    {
     "name": "stdout",
     "output_type": "stream",
     "text": [
      "5\n",
      "1\n",
      "-4\n",
      "1000\n",
      "3\n",
      "4\n",
      "-100000000 1000\n"
     ]
    }
   ],
   "source": [
    "N = int(input())\n",
    "summ = 0\n",
    "mini = -100000000\n",
    "maxi = 0\n",
    "while (N!=0):\n",
    "    a = int(input())\n",
    "    if(a<mini):\n",
    "        mini = a\n",
    "    if(a>maxi):\n",
    "        maxi = a\n",
    "    N -= 1\n",
    "print(mini, maxi)"
   ]
  },
  {
   "cell_type": "markdown",
   "metadata": {
    "id": "LcLaOosbTLw4"
   },
   "source": [
    "## **Задача 3.4 На отработку цикла с предусловием while**"
   ]
  },
  {
   "cell_type": "markdown",
   "metadata": {
    "id": "G8sM7u0UTM9w"
   },
   "source": [
    "Дан ряд из N натуральных двухзначных случайных чисел. Найти среднее арифметическое всех элементов ряда."
   ]
  },
  {
   "cell_type": "code",
   "execution_count": null,
   "metadata": {
    "id": "u9nr2mw4TNZG"
   },
   "outputs": [],
   "source": [
    "a = '1'\n",
    "summ = 0\n",
    "N = int(input(\"N: \"))\n",
    "while (N!=0):\n",
    "    N -= 1\n",
    "    a = int(input())\n",
    "    summ += a\n",
    "    lenght += 1\n",
    "print(summ/lenght)\n",
    "    "
   ]
  },
  {
   "cell_type": "markdown",
   "metadata": {
    "id": "b1-jNavVTNiT"
   },
   "source": [
    "**Задача 3.5 На отработку if**"
   ]
  },
  {
   "cell_type": "markdown",
   "metadata": {
    "id": "V4aw0DRITOm_"
   },
   "source": [
    "Даны два числа А и В. Если А>В, то А присвоить значение В, а В - значение А. Вывести прежние и полученные значения А и В."
   ]
  },
  {
   "cell_type": "code",
   "execution_count": null,
   "metadata": {
    "id": "x1XQ34cOTO9c"
   },
   "outputs": [],
   "source": [
    "A = int(input())\n",
    "B = int(input())\n",
    "if(A>B):\n",
    "    A, B = B, A\n",
    "print('A: ', A,'B: ', B)"
   ]
  },
  {
   "cell_type": "markdown",
   "metadata": {
    "id": "yne7ZF6La6l7"
   },
   "source": [
    "**Задача 3.6 На отработку if**"
   ]
  },
  {
   "cell_type": "markdown",
   "metadata": {
    "id": "5syepgn0a7eL"
   },
   "source": [
    "Даны две пары чисел А, В и С, Д. Если А*В>С*Д, то вывести среднее арифметическое этих чисел, в противном случае среднее геометрическое."
   ]
  },
  {
   "cell_type": "code",
   "execution_count": null,
   "metadata": {
    "id": "e5NJbPw6a78s"
   },
   "outputs": [],
   "source": [
    "A, B = map(int, input().split(' '))\n",
    "C, D = map(int, input().split(' '))\n",
    "if(A*B>C*D):\n",
    "    print((A+B+C+D)/4)\n",
    "else:\n",
    "    print((A*B*C*D)**(1/4))"
   ]
  },
  {
   "cell_type": "markdown",
   "metadata": {
    "id": "wUS4OW1ba8GO"
   },
   "source": [
    "## **Задача 3.7 На отработку if**"
   ]
  },
  {
   "cell_type": "markdown",
   "metadata": {
    "id": "nlnV5zB5a9NT"
   },
   "source": [
    "Даны три числа: a, b, c. Определить, можно ли построить треугольник, если интерпретировать a, b, c как длины сторон треугольника. \n",
    "\n",
    "\n",
    "\n",
    " *Условие построения треугольника: треугольник существует только тогда, когда сумма двух его сторон больше третьей. Требуется сравнить каждую сторону с суммой двух других. Если хотя бы в одном случае сторона окажется больше либо равна сумме двух других, то треугольника с такими сторонами не существует.*"
   ]
  },
  {
   "cell_type": "code",
   "execution_count": null,
   "metadata": {
    "id": "ug14rye-a9X7"
   },
   "outputs": [],
   "source": [
    "A = int(input())\n",
    "B = int(input())\n",
    "C = int(input())\n",
    "if(A+B>C and A+C>B and B+C>A):\n",
    "    print('СУЩЕСТВУЕТ')\n",
    "else:\n",
    "    print(\"НЕСУЩЕСТВУЕТ\")\n",
    "    "
   ]
  },
  {
   "cell_type": "markdown",
   "metadata": {
    "id": "iYNExGhna9jY"
   },
   "source": [
    "**Задача 3.8 На отработку if**"
   ]
  },
  {
   "cell_type": "markdown",
   "metadata": {
    "id": "f6Us7Uyza-gU"
   },
   "source": [
    "Написать программу, которая по номеру месяца (диапазон 1-12) определит время года и количество дней."
   ]
  },
  {
   "cell_type": "code",
   "execution_count": null,
   "metadata": {
    "id": "1y72Tj3Ca-yV"
   },
   "outputs": [],
   "source": [
    "a = int(input())\n",
    "if(a in [1, 2, 12]):\n",
    "    print('ЗИМА', end=' ')\n",
    "    if(a==1 or a == 12):\n",
    "        print(31, end=' ')\n",
    "    else:\n",
    "        print(28, end=' ')\n",
    "    print('дней')\n",
    "elif(a in [3, 4, 5]):\n",
    "    print('ВЕСНА', end=' ')\n",
    "    if(a==3 or a == 4):\n",
    "        print(31, end=' ')\n",
    "    else:\n",
    "        print(30, end=' ')\n",
    "    print('дней')\n",
    "elif(a in [6, 7, 8]):\n",
    "    print('ЛЕТО', end=' ')\n",
    "    if(a==7 or a == 8):\n",
    "        print(31, end=' ')\n",
    "    else:\n",
    "        print(30, end=' ')\n",
    "    print('дней')\n",
    "elif(a in [9, 10, 11]):\n",
    "    print('ОСЕНЬ', end=' ')\n",
    "    if(a==9 or a == 11):\n",
    "        print(30, end=' ')\n",
    "    else:\n",
    "        print(31, end=' ')\n",
    "    print('дней')\n",
    "else:\n",
    "    print('Неверный месяц')"
   ]
  },
  {
   "cell_type": "markdown",
   "metadata": {
    "id": "hrW4BLombfEp"
   },
   "source": [
    "**Задача 3.9 На отработку метода isqrt**"
   ]
  },
  {
   "cell_type": "markdown",
   "metadata": {
    "id": "BT_iphGlbfSx"
   },
   "source": [
    "Напишите программу, которая просит пользователя ввести число, а затем вычисляет квадратный корень из данного числа с применением метода isqrt из библиотеки math.\n",
    "\n",
    "При запуске программы вводите числа, квадратный корень которых является не целым числом, чтобы показать как работает метод."
   ]
  },
  {
   "cell_type": "code",
   "execution_count": null,
   "metadata": {
    "id": "ejoni8v4bfls"
   },
   "outputs": [],
   "source": [
    "from math import isqrt\n",
    "a = isqrt(int(input()))\n",
    "print(a)"
   ]
  },
  {
   "cell_type": "markdown",
   "metadata": {
    "id": "PYEmX7o8bfvn"
   },
   "source": [
    "**Задача 3.10 На отработку функции pow**"
   ]
  },
  {
   "cell_type": "markdown",
   "metadata": {
    "id": "gt-xcgjobf11"
   },
   "source": [
    "Напишите программу, которая просит пользователя ввести число a и число n, а затем вычисляет корень n-степени из числа а с помощью функции pow."
   ]
  },
  {
   "cell_type": "code",
   "execution_count": null,
   "metadata": {
    "id": "6GiqKRe-bgAA"
   },
   "outputs": [],
   "source": [
    "a = int(input())\n",
    "n = 1/ int(input())\n",
    "print(pow(a, n))"
   ]
  },
  {
   "cell_type": "markdown",
   "metadata": {
    "id": "6eD9iCFCcgUL"
   },
   "source": [
    "**Задача 3.11 На отработку работы со списками**"
   ]
  },
  {
   "cell_type": "markdown",
   "metadata": {
    "id": "W_yrlLFccl0l"
   },
   "source": [
    "Напишите программу, которая содержит какой-либо список из чисел и выводит его на экран."
   ]
  },
  {
   "cell_type": "code",
   "execution_count": null,
   "metadata": {
    "id": "vpfRYbw9csL5"
   },
   "outputs": [],
   "source": [
    "a = [1, 2, 3]\n",
    "for i in a:\n",
    "    print(i, end=' ')"
   ]
  },
  {
   "cell_type": "markdown",
   "metadata": {
    "id": "t3Qumm0wcsXj"
   },
   "source": [
    "**Задача 3.12 На отработку работы со списками и метода sort**"
   ]
  },
  {
   "cell_type": "markdown",
   "metadata": {
    "id": "ynZBvto6cw-d"
   },
   "source": [
    "Напишите программу, которая содержит список имен ваших друзей, выводит этот список в консоль, а затем сортирует его с помощью функции sort и выводит отсортированный список."
   ]
  },
  {
   "cell_type": "code",
   "execution_count": null,
   "metadata": {
    "id": "40hQ1-BTc9Ri"
   },
   "outputs": [],
   "source": [
    "a = ['Слава', 'Аля', 'Марат']\n",
    "for i in a:\n",
    "    print(i, end=' ')\n",
    "print()\n",
    "a.sort()\n",
    "for i in a:\n",
    "    print(i, end=' ')"
   ]
  },
  {
   "cell_type": "markdown",
   "metadata": {
    "id": "rcDKHaLGdACR"
   },
   "source": [
    "**Задача 3.13 На отработку метода math.gcd**\n"
   ]
  },
  {
   "cell_type": "markdown",
   "metadata": {
    "id": "i71q0hgQdUWV"
   },
   "source": [
    "Напишите программу, которая просит пользователя ввести два числа, а затем с помощью метода math.gcd находит их наибольший общий делитель."
   ]
  },
  {
   "cell_type": "code",
   "execution_count": null,
   "metadata": {
    "id": "nxCYK1sddekS"
   },
   "outputs": [],
   "source": [
    "from math import gcd\n",
    "a = int(input())\n",
    "b = int(input())\n",
    "print(gcd(a, b))"
   ]
  },
  {
   "cell_type": "markdown",
   "metadata": {
    "id": "NDfhLWhrdevV"
   },
   "source": [
    "**Задача 3.14 На отработку метода swapcase**"
   ]
  },
  {
   "cell_type": "markdown",
   "metadata": {
    "id": "bmHwUbHldn6W"
   },
   "source": [
    "Напишите программу, которая просит ввести какое-то предложение с клавиатуры, а потом с помощью метода swapcase работает с регистром букв данного предложения, в конце выводя на экран."
   ]
  },
  {
   "cell_type": "code",
   "execution_count": null,
   "metadata": {
    "id": "0RnXQmn7lrUG"
   },
   "outputs": [],
   "source": [
    "a = input('Предложение: ').swapcase()\n",
    "print(a)"
   ]
  },
  {
   "cell_type": "markdown",
   "metadata": {
    "id": "lXTY3ucrlrhc"
   },
   "source": [
    "**Задача 3.15 На отработку метода math.fsum**"
   ]
  },
  {
   "cell_type": "markdown",
   "metadata": {
    "id": "XIt2nti2lwlp"
   },
   "source": [
    "Напишите программу, которая возращает сумму всех элементов списка, который состоит из чисел 4,67,9,78,2."
   ]
  },
  {
   "cell_type": "code",
   "execution_count": null,
   "metadata": {
    "id": "BbFr8R6rl46Y"
   },
   "outputs": [],
   "source": [
    "from math import fsum\n",
    "a = [4,67,9,78,2]\n",
    "print(fsum(a))"
   ]
  },
  {
   "cell_type": "code",
   "execution_count": null,
   "metadata": {},
   "outputs": [],
   "source": []
  }
 ],
 "metadata": {
  "colab": {
   "provenance": []
  },
  "kernelspec": {
   "display_name": "Python 3 (ipykernel)",
   "language": "python",
   "name": "python3"
  },
  "language_info": {
   "codemirror_mode": {
    "name": "ipython",
    "version": 3
   },
   "file_extension": ".py",
   "mimetype": "text/x-python",
   "name": "python",
   "nbconvert_exporter": "python",
   "pygments_lexer": "ipython3",
   "version": "3.9.12"
  }
 },
 "nbformat": 4,
 "nbformat_minor": 1
}
