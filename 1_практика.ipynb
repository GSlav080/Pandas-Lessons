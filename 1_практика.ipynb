{
 "cells": [
  {
   "cell_type": "markdown",
   "metadata": {
    "id": "MbjfMza1Fvnt"
   },
   "source": [
    "**Задача 1.1 Привет, МИР!**"
   ]
  },
  {
   "cell_type": "markdown",
   "metadata": {
    "id": "0fY9d6kpFmuV"
   },
   "source": [
    "Напишите программу, которая просит ввести пользователя его имя, а затем приветствует его."
   ]
  },
  {
   "cell_type": "code",
   "execution_count": 1,
   "metadata": {
    "id": "ipaIU8LrFoS9"
   },
   "outputs": [
    {
     "name": "stdout",
     "output_type": "stream",
     "text": [
      "Ваше имя: Слава\n",
      "Здравствуй, Слава\n"
     ]
    }
   ],
   "source": [
    "a = input('Ваше имя: ')\n",
    "print('Здравствуй, {}'.format(a))"
   ]
  },
  {
   "cell_type": "markdown",
   "metadata": {
    "id": "EBjJ_KvvF9o2"
   },
   "source": [
    "**Задача 1.2 Куб** \n",
    "\n"
   ]
  },
  {
   "cell_type": "markdown",
   "metadata": {
    "id": "IP05VrdEF89O"
   },
   "source": [
    "Напишите программу, которая запрашивает длину стороны куба, а после находит и выводит его площадь и объем."
   ]
  },
  {
   "cell_type": "code",
   "execution_count": 2,
   "metadata": {
    "id": "jARpxilQGJ6u"
   },
   "outputs": [
    {
     "name": "stdout",
     "output_type": "stream",
     "text": [
      "Сторона куба: 3\n",
      "S_квадрата = 9\n",
      "S_куба = 27\n"
     ]
    }
   ],
   "source": [
    "a = int(input('Сторона куба: '))\n",
    "print('S_квадрата =', a**2)\n",
    "print('S_куба =', a**3)"
   ]
  },
  {
   "cell_type": "markdown",
   "metadata": {
    "id": "ZiqPwRZUGfAN"
   },
   "source": [
    "**Задача 1.3 Площадь комнаты**"
   ]
  },
  {
   "cell_type": "markdown",
   "metadata": {
    "id": "_CVwsgQOHWG9"
   },
   "source": [
    "Напишите программу, запрашивающую у пользователя длину и ширину комнаты. После ввода значений должен быть произведен расчет площади комнаты и выведен на экран."
   ]
  },
  {
   "cell_type": "code",
   "execution_count": 3,
   "metadata": {
    "id": "Z8KoI-ehHX3G"
   },
   "outputs": [
    {
     "name": "stdout",
     "output_type": "stream",
     "text": [
      "Длинна: 5\n",
      "Ширина: 3\n",
      "S_комнаты 15\n"
     ]
    }
   ],
   "source": [
    "a = int(input('Длинна: '))\n",
    "b = int(input('Ширина: '))\n",
    "print(\"S_комнаты: \", a*b)"
   ]
  },
  {
   "cell_type": "markdown",
   "metadata": {
    "id": "MBKJB84KHYH1"
   },
   "source": [
    "**Задача 1.4 Сумма первых n положительных чисел**"
   ]
  },
  {
   "cell_type": "markdown",
   "metadata": {
    "id": "qcNN2AtBHc1F"
   },
   "source": [
    "Напишите программу, запрашивающую у пользователя число и подсчитывающую сумму натуральных положительных чисел от 1 до введенного\n",
    "пользователем значения и выводящую ее на экран. Сумма первых n положительных чисел может быть рассчитана по формуле:\n",
    "\n",
    "![summ.png](data:image/png;base64,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)\n"
   ]
  },
  {
   "cell_type": "code",
   "execution_count": 5,
   "metadata": {
    "id": "HJ9MtS7cHhiV"
   },
   "outputs": [
    {
     "name": "stdout",
     "output_type": "stream",
     "text": [
      "Число: 3\n",
      "6.0\n"
     ]
    }
   ],
   "source": [
    "a = int(input('Число: '))\n",
    "print((a*(a+1))/2)"
   ]
  }
 ],
 "metadata": {
  "colab": {
   "provenance": [],
   "toc_visible": true
  },
  "kernelspec": {
   "display_name": "Python 3 (ipykernel)",
   "language": "python",
   "name": "python3"
  },
  "language_info": {
   "codemirror_mode": {
    "name": "ipython",
    "version": 3
   },
   "file_extension": ".py",
   "mimetype": "text/x-python",
   "name": "python",
   "nbconvert_exporter": "python",
   "pygments_lexer": "ipython3",
   "version": "3.9.12"
  }
 },
 "nbformat": 4,
 "nbformat_minor": 1
}
